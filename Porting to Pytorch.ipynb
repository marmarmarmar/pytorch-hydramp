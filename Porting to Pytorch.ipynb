{
 "cells": [
  {
   "cell_type": "markdown",
   "id": "ad9740ea",
   "metadata": {},
   "source": [
    "# Conversion of HydrAMP model to `pytorch`\n",
    "\n",
    "Using this notebook one may convert the `hydramp` model to its `pytorch` equivalent version.\n",
    "\n",
    "Main contributions are:\n",
    "- a proper rewriting of the `GRU` layer to `pytorch` so it's the same as in `keras`,\n",
    "- `pytorch` version of Encoders and Decoders.\n",
    "\n",
    "## Requirements:\n",
    "- this notebook should be run from the environment where `hydramp` environment is set up,\n",
    "- this notebook was initially run using `torch=='2.0.0+cu117`,\n",
    "- in some cases, protobuf should be downgraded to `protobuf<=3.20.1`,\n",
    "- set `HYDRAMP_WEIGHT_PATHS` to your downloaded model weights."
   ]
  },
  {
   "cell_type": "code",
   "execution_count": 1,
   "id": "2e9c05ca",
   "metadata": {},
   "outputs": [
    {
     "name": "stderr",
     "output_type": "stream",
     "text": [
      "Using TensorFlow backend.\n",
      "/home/marmarmarmar/hydramp/hydramp/lib/python3.8/site-packages/scipy/__init__.py:143: UserWarning: A NumPy version >=1.19.5 and <1.27.0 is required for this version of SciPy (detected version 1.19.0)\n",
      "  warnings.warn(f\"A NumPy version >={np_minversion} and <{np_maxversion}\"\n"
     ]
    }
   ],
   "source": [
    "from amp.utils import basic_model_serializer\n",
    "\n",
    "from keras import layers\n",
    "from keras import models\n",
    "import numpy as np\n",
    "import torch\n",
    "\n",
    "#!pip install --upgrade \"protobuf<=3.20.1\"\n",
    "\n",
    "HYDRAMP_WEIGHTS_PATHS = f'../37'"
   ]
  },
  {
   "cell_type": "code",
   "execution_count": 2,
   "id": "3d53c48c",
   "metadata": {},
   "outputs": [
    {
     "name": "stdout",
     "output_type": "stream",
     "text": [
      "tracking <tf.Variable 'temperature:0' shape=() dtype=float32, numpy=0.1> temperature\n"
     ]
    },
    {
     "name": "stderr",
     "output_type": "stream",
     "text": [
      "2024-07-24 18:45:16.478013: I tensorflow/stream_executor/platform/default/dso_loader.cc:44] Successfully opened dynamic library libcuda.so.1\n",
      "2024-07-24 18:45:16.558935: I tensorflow/stream_executor/cuda/cuda_gpu_executor.cc:981] successful NUMA node read from SysFS had negative value (-1), but there must be at least one NUMA node, so returning NUMA node zero\n",
      "2024-07-24 18:45:16.559378: I tensorflow/core/common_runtime/gpu/gpu_device.cc:1561] Found device 0 with properties: \n",
      "pciBusID: 0000:01:00.0 name: NVIDIA GeForce RTX 2080 Ti computeCapability: 7.5\n",
      "coreClock: 1.62GHz coreCount: 68 deviceMemorySize: 10.75GiB deviceMemoryBandwidth: 573.69GiB/s\n",
      "2024-07-24 18:45:16.559430: I tensorflow/stream_executor/cuda/cuda_gpu_executor.cc:981] successful NUMA node read from SysFS had negative value (-1), but there must be at least one NUMA node, so returning NUMA node zero\n",
      "2024-07-24 18:45:16.559825: I tensorflow/core/common_runtime/gpu/gpu_device.cc:1561] Found device 1 with properties: \n",
      "pciBusID: 0000:21:00.0 name: NVIDIA GeForce RTX 2080 Ti computeCapability: 7.5\n",
      "coreClock: 1.62GHz coreCount: 68 deviceMemorySize: 10.75GiB deviceMemoryBandwidth: 573.69GiB/s\n",
      "2024-07-24 18:45:16.559871: I tensorflow/stream_executor/cuda/cuda_gpu_executor.cc:981] successful NUMA node read from SysFS had negative value (-1), but there must be at least one NUMA node, so returning NUMA node zero\n",
      "2024-07-24 18:45:16.560270: I tensorflow/core/common_runtime/gpu/gpu_device.cc:1561] Found device 2 with properties: \n",
      "pciBusID: 0000:49:00.0 name: NVIDIA GeForce RTX 2080 Ti computeCapability: 7.5\n",
      "coreClock: 1.62GHz coreCount: 68 deviceMemorySize: 10.75GiB deviceMemoryBandwidth: 573.69GiB/s\n",
      "2024-07-24 18:45:16.560315: I tensorflow/stream_executor/cuda/cuda_gpu_executor.cc:981] successful NUMA node read from SysFS had negative value (-1), but there must be at least one NUMA node, so returning NUMA node zero\n",
      "2024-07-24 18:45:16.560710: I tensorflow/core/common_runtime/gpu/gpu_device.cc:1561] Found device 3 with properties: \n",
      "pciBusID: 0000:4a:00.0 name: NVIDIA GeForce RTX 2080 Ti computeCapability: 7.5\n",
      "coreClock: 1.62GHz coreCount: 68 deviceMemorySize: 10.75GiB deviceMemoryBandwidth: 573.69GiB/s\n",
      "2024-07-24 18:45:16.560887: W tensorflow/stream_executor/platform/default/dso_loader.cc:55] Could not load dynamic library 'libcudart.so.10.1'; dlerror: libcudart.so.10.1: cannot open shared object file: No such file or directory\n",
      "2024-07-24 18:45:16.560936: W tensorflow/stream_executor/platform/default/dso_loader.cc:55] Could not load dynamic library 'libcublas.so.10'; dlerror: libcublas.so.10: cannot open shared object file: No such file or directory\n",
      "2024-07-24 18:45:16.560956: I tensorflow/stream_executor/platform/default/dso_loader.cc:44] Successfully opened dynamic library libcufft.so.10\n",
      "2024-07-24 18:45:16.560970: I tensorflow/stream_executor/platform/default/dso_loader.cc:44] Successfully opened dynamic library libcurand.so.10\n",
      "2024-07-24 18:45:16.561014: W tensorflow/stream_executor/platform/default/dso_loader.cc:55] Could not load dynamic library 'libcusolver.so.10'; dlerror: libcusolver.so.10: cannot open shared object file: No such file or directory\n",
      "2024-07-24 18:45:16.561057: W tensorflow/stream_executor/platform/default/dso_loader.cc:55] Could not load dynamic library 'libcusparse.so.10'; dlerror: libcusparse.so.10: cannot open shared object file: No such file or directory\n",
      "2024-07-24 18:45:16.561112: W tensorflow/stream_executor/platform/default/dso_loader.cc:55] Could not load dynamic library 'libcudnn.so.7'; dlerror: libcudnn.so.7: cannot open shared object file: No such file or directory\n",
      "2024-07-24 18:45:16.561119: W tensorflow/core/common_runtime/gpu/gpu_device.cc:1598] Cannot dlopen some GPU libraries. Please make sure the missing libraries mentioned above are installed properly if you would like to use GPU. Follow the guide at https://www.tensorflow.org/install/gpu for how to download and setup the required libraries for your platform.\n",
      "Skipping registering GPU devices...\n",
      "2024-07-24 18:45:16.562037: I tensorflow/core/platform/cpu_feature_guard.cc:143] Your CPU supports instructions that this TensorFlow binary was not compiled to use: AVX2 FMA\n",
      "2024-07-24 18:45:16.597468: I tensorflow/core/platform/profile_utils/cpu_utils.cc:102] CPU Frequency: 2894580000 Hz\n",
      "2024-07-24 18:45:16.618411: I tensorflow/compiler/xla/service/service.cc:168] XLA service 0x7fe66c000b60 initialized for platform Host (this does not guarantee that XLA will be used). Devices:\n",
      "2024-07-24 18:45:16.618497: I tensorflow/compiler/xla/service/service.cc:176]   StreamExecutor device (0): Host, Default Version\n",
      "2024-07-24 18:45:16.620608: I tensorflow/core/common_runtime/gpu/gpu_device.cc:1102] Device interconnect StreamExecutor with strength 1 edge matrix:\n",
      "2024-07-24 18:45:16.620620: I tensorflow/core/common_runtime/gpu/gpu_device.cc:1108]      \n"
     ]
    }
   ],
   "source": [
    "bms = basic_model_serializer.BasicModelSerializer()\n",
    "\n",
    "AMPMaster = bms.load_model(HYDRAMP_WEIGHTS_PATHS)"
   ]
  },
  {
   "cell_type": "code",
   "execution_count": 3,
   "id": "b8602539",
   "metadata": {},
   "outputs": [],
   "source": [
    "input_to_decoder = layers.Input(shape=(64+2,))\n",
    "input_to_encoder = layers.Input(shape=(25,))\n",
    "\n",
    "\n",
    "decoder_model = AMPMaster.decoder(input_to_decoder)\n",
    "encoder_tensors = AMPMaster.encoder.output_tensor(input_to_encoder)\n",
    "encoder_model = models.Model(inputs=input_to_encoder, outputs=encoder_tensors)"
   ]
  },
  {
   "cell_type": "code",
   "execution_count": 4,
   "id": "388b4d94",
   "metadata": {},
   "outputs": [],
   "source": [
    "from keras.models import Model, Sequential\n",
    "\n",
    "\n",
    "logits_keras_decoder = Model(inputs=input_to_decoder, outputs=decoder_model.layers[7].output)"
   ]
  },
  {
   "cell_type": "code",
   "execution_count": 5,
   "id": "3955bf6c",
   "metadata": {},
   "outputs": [],
   "source": [
    "example_input = np.random.normal(size=(100, 66)).astype('float32') * 0.5\n",
    "example_input_torch = torch.Tensor(example_input).to(torch.float32)"
   ]
  },
  {
   "cell_type": "code",
   "execution_count": 6,
   "id": "835cc450",
   "metadata": {},
   "outputs": [],
   "source": [
    "from torch_hydramp_models import HydrAMPGRU, HydrAMPDecoderTORCH, HydrAMPEncoderTorch"
   ]
  },
  {
   "cell_type": "code",
   "execution_count": null,
   "id": "132cc99e",
   "metadata": {},
   "outputs": [],
   "source": []
  },
  {
   "cell_type": "code",
   "execution_count": 7,
   "id": "1a863b6f",
   "metadata": {},
   "outputs": [],
   "source": [
    "hd = HydrAMPDecoderTORCH()"
   ]
  },
  {
   "cell_type": "code",
   "execution_count": 8,
   "id": "2829f89d",
   "metadata": {},
   "outputs": [],
   "source": [
    "hydramp_weights_dict = {\n",
    "    'gru.kernel': torch.Tensor(decoder_model.layers[2].get_weights()[0]),\n",
    "    'gru.recurrent_kernel': torch.Tensor(decoder_model.layers[2].get_weights()[1]),\n",
    "    'gru.bias': torch.Tensor(decoder_model.layers[2].get_weights()[2]),\n",
    "    'lstm.weight_ih_l0': torch.Tensor(decoder_model.layers[5].get_weights()[0].T),\n",
    "    'lstm.weight_hh_l0': torch.Tensor(decoder_model.layers[5].get_weights()[1].T),\n",
    "    'lstm.bias_ih_l0': torch.Tensor(decoder_model.layers[5].get_weights()[2]),\n",
    "    'lstm.bias_hh_l0': torch.Tensor(np.zeros((400,), dtype='float32')),\n",
    "    'dense.weight': torch.Tensor(decoder_model.layers[7].get_weights()[0]).T,\n",
    "    'dense.bias': torch.Tensor(decoder_model.layers[7].get_weights()[1]),\n",
    "}"
   ]
  },
  {
   "cell_type": "code",
   "execution_count": 9,
   "id": "c8581630",
   "metadata": {},
   "outputs": [
    {
     "data": {
      "text/plain": [
       "<All keys matched successfully>"
      ]
     },
     "execution_count": 9,
     "metadata": {},
     "output_type": "execute_result"
    }
   ],
   "source": [
    "hd.load_state_dict(hydramp_weights_dict)"
   ]
  },
  {
   "cell_type": "code",
   "execution_count": 10,
   "id": "aa5349ac",
   "metadata": {},
   "outputs": [],
   "source": [
    "torch_logits = hd(example_input_torch)"
   ]
  },
  {
   "cell_type": "code",
   "execution_count": 11,
   "id": "1174bdc7",
   "metadata": {},
   "outputs": [],
   "source": [
    "keras_logits = logits_keras_decoder.predict(example_input)"
   ]
  },
  {
   "cell_type": "code",
   "execution_count": 12,
   "id": "d0ebe315",
   "metadata": {},
   "outputs": [
    {
     "data": {
      "text/plain": [
       "[<matplotlib.lines.Line2D at 0x7fe8302c8c70>]"
      ]
     },
     "execution_count": 12,
     "metadata": {},
     "output_type": "execute_result"
    },
    {
     "data": {
      "image/png": "[encoded data removed]",
      "text/plain": [
       "<Figure size 640x480 with 1 Axes>"
      ]
     },
     "metadata": {},
     "output_type": "display_data"
    }
   ],
   "source": [
    "import matplotlib.pyplot as plt\n",
    "\n",
    "\n",
    "\n",
    "plt.scatter(keras_logits.flatten(), torch_logits.detach().numpy().flatten())\n",
    "plt.plot([-0.6, 0.6], [-0.6, 0.6], c='r')"
   ]
  },
  {
   "cell_type": "code",
   "execution_count": null,
   "id": "1e223c0d",
   "metadata": {},
   "outputs": [],
   "source": []
  },
  {
   "cell_type": "code",
   "execution_count": 13,
   "id": "e48a682b",
   "metadata": {},
   "outputs": [],
   "source": [
    "he = HydrAMPEncoderTorch()"
   ]
  },
  {
   "cell_type": "code",
   "execution_count": 14,
   "id": "a9a773a2",
   "metadata": {},
   "outputs": [],
   "source": [
    "hydramp_encoder_dict = {\n",
    "    'embedding.weight': torch.Tensor(encoder_model.layers[1].get_weights()[0]),\n",
    "    'gru1_f.kernel': torch.Tensor(encoder_model.layers[2].get_weights()[0]),\n",
    "    'gru1_f.recurrent_kernel': torch.Tensor(encoder_model.layers[2].get_weights()[1]), \n",
    "    'gru1_f.bias': torch.Tensor(encoder_model.layers[2].get_weights()[2]), \n",
    "    'gru1_r.kernel': torch.Tensor(encoder_model.layers[2].get_weights()[3]),\n",
    "    'gru1_r.recurrent_kernel': torch.Tensor(encoder_model.layers[2].get_weights()[4]),\n",
    "    'gru1_r.bias': torch.Tensor(encoder_model.layers[2].get_weights()[5]),\n",
    "    'gru2_f.kernel': torch.Tensor(encoder_model.layers[3].get_weights()[0]),\n",
    "    'gru2_f.recurrent_kernel': torch.Tensor(encoder_model.layers[3].get_weights()[1]), \n",
    "    'gru2_f.bias': torch.Tensor(encoder_model.layers[3].get_weights()[2]), \n",
    "    'gru2_r.kernel': torch.Tensor(encoder_model.layers[3].get_weights()[3]),\n",
    "    'gru2_r.recurrent_kernel': torch.Tensor(encoder_model.layers[3].get_weights()[4]),\n",
    "    'gru2_r.bias': torch.Tensor(encoder_model.layers[3].get_weights()[5]),\n",
    "    'mean_linear.weight': torch.Tensor(encoder_model.layers[4].get_weights()[0].T),\n",
    "    'mean_linear.bias': torch.Tensor(encoder_model.layers[4].get_weights()[1]),\n",
    "    'std_linear.weight': torch.Tensor(encoder_model.layers[5].get_weights()[0].T),\n",
    "    'std_linear.bias': torch.Tensor(encoder_model.layers[5].get_weights()[1]),\n",
    "}"
   ]
  },
  {
   "cell_type": "code",
   "execution_count": 15,
   "id": "9c411a2d",
   "metadata": {},
   "outputs": [
    {
     "data": {
      "text/plain": [
       "<All keys matched successfully>"
      ]
     },
     "execution_count": 15,
     "metadata": {},
     "output_type": "execute_result"
    }
   ],
   "source": [
    "he.load_state_dict(hydramp_encoder_dict)"
   ]
  },
  {
   "cell_type": "code",
   "execution_count": 16,
   "id": "c8795b87",
   "metadata": {},
   "outputs": [],
   "source": [
    "random_encoder_input = np.random.randint(low=0, high=21, size=(10, 25), dtype='int')\n",
    "random_encoder_input_torch = torch.Tensor(random_encoder_input).to(torch.int)"
   ]
  },
  {
   "cell_type": "code",
   "execution_count": 17,
   "id": "70ef1a70",
   "metadata": {},
   "outputs": [],
   "source": [
    "current_encoder_mean_model = Model(inputs=input_to_encoder, outputs=encoder_model.layers[4].get_output_at(0))\n",
    "current_encoder_std_model = Model(inputs=input_to_encoder, outputs=encoder_model.layers[5].get_output_at(0))"
   ]
  },
  {
   "cell_type": "code",
   "execution_count": 18,
   "id": "fb7a48fc",
   "metadata": {},
   "outputs": [],
   "source": [
    "he_output_mean, he_output_std = he(random_encoder_input_torch)\n",
    "he_keras_output_mean = current_encoder_mean_model.predict(random_encoder_input)\n",
    "he_keras_output_std = current_encoder_std_model.predict(random_encoder_input)"
   ]
  },
  {
   "cell_type": "code",
   "execution_count": 19,
   "id": "1e9ce4f6",
   "metadata": {},
   "outputs": [
    {
     "data": {
      "text/plain": [
       "[<matplotlib.lines.Line2D at 0x7fe8301444f0>]"
      ]
     },
     "execution_count": 19,
     "metadata": {},
     "output_type": "execute_result"
    },
    {
     "data": {
      "image/png": "[encoded data removed]",
      "text/plain": [
       "<Figure size 640x480 with 1 Axes>"
      ]
     },
     "metadata": {},
     "output_type": "display_data"
    }
   ],
   "source": [
    "plt.scatter(he_keras_output_mean.flatten(), he_output_mean.detach().numpy().flatten(), alpha=0.1)\n",
    "plt.plot([-0.6, 0.6], [-0.6, 0.6], c='r', alpha=1)"
   ]
  },
  {
   "cell_type": "code",
   "execution_count": 20,
   "id": "ce08eafa",
   "metadata": {},
   "outputs": [
    {
     "data": {
      "text/plain": [
       "[<matplotlib.lines.Line2D at 0x7fe9572ec550>]"
      ]
     },
     "execution_count": 20,
     "metadata": {},
     "output_type": "execute_result"
    },
    {
     "data": {
      "image/png": "[encoded data removed]",
      "text/plain": [
       "<Figure size 640x480 with 1 Axes>"
      ]
     },
     "metadata": {},
     "output_type": "display_data"
    }
   ],
   "source": [
    "plt.scatter(he_keras_output_std.flatten(), he_output_std.detach().numpy().flatten(), alpha=0.1)\n",
    "plt.plot([-0.6, 0.6], [-0.6, 0.6], c='r', alpha=1)"
   ]
  },
  {
   "cell_type": "code",
   "execution_count": 21,
   "id": "adf5a10e",
   "metadata": {},
   "outputs": [],
   "source": [
    "#Uncomment if you want to save weights.\n",
    "\n",
    "#torch.save(hd.state_dict(), 'decoder_weights.pickle')\n",
    "#torch.save(he.state_dict(), 'encoder_weights.pickle')"
   ]
  },
  {
   "cell_type": "code",
   "execution_count": null,
   "id": "98c6c475",
   "metadata": {},
   "outputs": [],
   "source": []
  }
 ],
 "metadata": {
  "kernelspec": {
   "display_name": "Python 3",
   "language": "python",
   "name": "python3"
  },
  "language_info": {
   "codemirror_mode": {
    "name": "ipython",
    "version": 3
   },
   "file_extension": ".py",
   "mimetype": "text/x-python",
   "name": "python",
   "nbconvert_exporter": "python",
   "pygments_lexer": "ipython3",
   "version": "3.8.10"
  }
 },
 "nbformat": 4,
 "nbformat_minor": 5
}
